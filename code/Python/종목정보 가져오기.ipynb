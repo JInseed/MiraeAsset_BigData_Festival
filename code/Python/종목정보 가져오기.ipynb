{
 "cells": [
  {
   "cell_type": "code",
   "execution_count": 4,
   "id": "0ffd87ee",
   "metadata": {},
   "outputs": [],
   "source": [
    "import pandas as pd\n",
    "import numpy as np\n",
    "import FinanceDataReader as fdr\n",
    "\n",
    "#사용되는 종목 리스트 가져오기\n",
    "df = pd.read_csv('C:/Users/Administrator/Desktop/미래에셋 공모전/data/재무제표_전처리.csv')\n",
    "\n",
    "#전종목정보 가져온 후 사용되는 종목으로 필터링 후 필요한 열만 가져오기\n",
    "stocks_all = fdr.StockListing('KRX-DESC')\n",
    "stocks = stocks_all[stocks_all[\"Name\"].isin(df.기업.unique())]\n",
    "stocks = stocks.iloc[:,0:6]\n",
    "\n",
    "stocks.to_csv('전종목정보.csv', index=False, encoding='UTF-8-sig')"
   ]
  },
  {
   "cell_type": "code",
   "execution_count": null,
   "id": "884e549b",
   "metadata": {},
   "outputs": [],
   "source": [
    "stocks"
   ]
  },
  {
   "cell_type": "code",
   "execution_count": null,
   "id": "88d16d1b",
   "metadata": {},
   "outputs": [],
   "source": [
    "df"
   ]
  },
  {
   "cell_type": "code",
   "execution_count": null,
   "id": "5827f3c9",
   "metadata": {},
   "outputs": [],
   "source": []
  },
  {
   "cell_type": "code",
   "execution_count": null,
   "id": "fe49c2a0",
   "metadata": {},
   "outputs": [],
   "source": []
  }
 ],
 "metadata": {
  "kernelspec": {
   "display_name": "Python 3 (ipykernel)",
   "language": "python",
   "name": "python3"
  },
  "language_info": {
   "codemirror_mode": {
    "name": "ipython",
    "version": 3
   },
   "file_extension": ".py",
   "mimetype": "text/x-python",
   "name": "python",
   "nbconvert_exporter": "python",
   "pygments_lexer": "ipython3",
   "version": "3.9.7"
  }
 },
 "nbformat": 4,
 "nbformat_minor": 5
}
